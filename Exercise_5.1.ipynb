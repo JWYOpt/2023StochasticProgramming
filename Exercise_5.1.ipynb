{
 "cells": [
  {
   "cell_type": "markdown",
   "metadata": {},
   "source": [
    "## Exercise 5.1"
   ]
  },
  {
   "cell_type": "code",
   "execution_count": null,
   "metadata": {},
   "outputs": [],
   "source": [
    "import numpy as np\n",
    "import gurobipy as gp\n",
    "from gurobipy import GRB\n",
    "import scipy.stats as st\n",
    "\n",
    "\n",
    "\n",
    "\n",
    "def Exercise_5_1():\n",
    "#     K = 10 #[109.90389652532572, 111.92839282255922]\n",
    "    K = 100 #[111.82372311395758, 112.45993339317337]\n",
    "    M = 100\n",
    "    z_K = []\n",
    "    np.random.seed(2)\n",
    "    confidence = 0.95\n",
    "    alpha = 1-confidence\n",
    "    z = st.norm.ppf(1-alpha/2)\n",
    "\n",
    "    \n",
    "    for m in range(M):\n",
    "        q_O = 1.2\n",
    "        q_B = np.random.uniform(1.5,2.2,K)\n",
    "        d = np.random.uniform(80,120,K)\n",
    "        m = gp.Model(\"5_1\")\n",
    "        x_SH = m.addVar(vtype = GRB.CONTINUOUS, name = \"the amount shipped from the factory\")\n",
    "        y_B = m.addVars([i for i in range(K)], vtype = GRB.CONTINUOUS, name = \"the amount bought in the local market \")\n",
    "        y_O = m.addVars([i for i in range(K)], vtype = GRB.CONTINUOUS, name = \"the oversupply\")\n",
    "        \n",
    "        m.setObjective(x_SH + (1/K)*sum(q_B[k]*y_B[k]+q_O*y_O[k] for k in range(K)),GRB.MINIMIZE)\n",
    "        \n",
    "        m.addConstr(x_SH <= 100)\n",
    "        \n",
    "        \n",
    "        for k in range(K):\n",
    "            m.addConstr(y_B[k]-y_O[k]+x_SH == d[k])\n",
    "  \n",
    "        \n",
    "        m.optimize()\n",
    "        print('x_SH:',x_SH.x)\n",
    "\n",
    "        print('y_B:')\n",
    "        for i in range(K):\n",
    "            print(y_B[i].x)\n",
    "\n",
    "        print('y_O:')\n",
    "        for i in range(K):\n",
    "            print(y_O[i].x)\n",
    "\n",
    "        \n",
    "        z_K.append(m.getObjective().getValue())\n",
    "    \n",
    "    \n",
    "    \n",
    "    L_MK = sum(z_K)/M\n",
    "    \n",
    "    \n",
    "    #standard deviation\n",
    "    theta = (1/(M-1)*sum((z_K[i]-L_MK)**2 for i in range(M)))**(1/2)\n",
    "    \n",
    "    \n",
    "    cinterval = [L_MK-theta*z/(M**(1/2)),L_MK+theta*z/(M**(1/2))]\n",
    "        \n",
    "    print('z_K',z_K)\n",
    "    print('L_MK',L_MK)\n",
    "    print('standard deviation',theta)\n",
    "    print('confidence interval', cinterval)\n",
    "\n",
    "        \n",
    "Exercise_5_1()"
   ]
  }
 ],
 "metadata": {
  "kernelspec": {
   "display_name": "Python 3",
   "language": "python",
   "name": "python3"
  },
  "language_info": {
   "codemirror_mode": {
    "name": "ipython",
    "version": 3
   },
   "file_extension": ".py",
   "mimetype": "text/x-python",
   "name": "python",
   "nbconvert_exporter": "python",
   "pygments_lexer": "ipython3",
   "version": "3.8.5"
  }
 },
 "nbformat": 4,
 "nbformat_minor": 4
}
