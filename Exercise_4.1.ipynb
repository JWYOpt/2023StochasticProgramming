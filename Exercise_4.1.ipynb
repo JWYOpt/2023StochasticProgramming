{
 "cells": [
  {
   "cell_type": "code",
   "execution_count": null,
   "metadata": {},
   "outputs": [],
   "source": [
    "import numpy as np\n",
    "import gurobipy as gp\n",
    "from gurobipy import GRB\n",
    "\n",
    "\n",
    "\n",
    "\n",
    "\n",
    "def saa(s):\n",
    "    np.random.seed(s)\n",
    "    K = 5\n",
    "    q_O = 1.2\n",
    "    q_B = np.random.uniform(1.5,2.2,K)\n",
    "    d = np.random.uniform(80,120,K)\n",
    "    \n",
    "    m = gp.Model(\"exercise 4.1\")\n",
    "    x_SH = m.addVar(vtype = GRB.CONTINUOUS, name = \"the amount shipped from the factory\")\n",
    "    y_B = m.addVars([i for i in range(K)], vtype = GRB.CONTINUOUS, name = \"the amount bought in the local market\")\n",
    "    y_O = m.addVars([i for i in range(K)], vtype = GRB.CONTINUOUS, name = \"the oversupply\")\n",
    "\n",
    "    m.setObjective(x_SH + (1/K)*sum(q_B[k]*y_B[k]+q_O*y_O[k] for k in range(K)),GRB.MINIMIZE)\n",
    "\n",
    "    m.addConstr(x_SH <= 100)\n",
    "\n",
    "\n",
    "    for k in range(K):\n",
    "        m.addConstr(y_B[k]-y_O[k]+x_SH == d[k])\n",
    "\n",
    "\n",
    "    m.optimize()\n",
    "    return m.ObjVal\n",
    "\n",
    "objset = []\n",
    "for s in range(10):\n",
    "    objset.append(saa(s))"
   ]
  }
 ],
 "metadata": {
  "kernelspec": {
   "display_name": "Python 3",
   "language": "python",
   "name": "python3"
  },
  "language_info": {
   "codemirror_mode": {
    "name": "ipython",
    "version": 3
   },
   "file_extension": ".py",
   "mimetype": "text/x-python",
   "name": "python",
   "nbconvert_exporter": "python",
   "pygments_lexer": "ipython3",
   "version": "3.8.5"
  }
 },
 "nbformat": 4,
 "nbformat_minor": 4
}
