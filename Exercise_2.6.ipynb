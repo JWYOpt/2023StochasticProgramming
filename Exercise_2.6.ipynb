{
 "cells": [
  {
   "cell_type": "code",
   "execution_count": null,
   "metadata": {},
   "outputs": [],
   "source": [
    "import gurobipy as gp\n",
    "from gurobipy import GRB\n",
    "\n",
    "\n",
    "\n",
    "m = gp.Model(\"ex2_6\")\n",
    "\n",
    "x_SH = m.addVar(vtype = GRB.INTEGER, name = \"the amount shipped from the factory\")\n",
    "\n",
    "y_B = m.addVars([i for i in range(1,4)], vtype = GRB.INTEGER, name = \"the amount bought in the local market \")\n",
    "y_O = m.addVars([i for i in range(1,4)], vtype = GRB.INTEGER, name = \"the oversupply\")\n",
    "\n",
    "m.setObjective(x_SH + 0.3*(1.5*y_B[1]+1.2*y_O[1]) + 0.3*(1.7*y_B[2]+1.2*y_O[2])+0.4*(2*y_B[3]+1.2*y_O[3]),GRB.MINIMIZE)\n",
    "\n",
    "m.addConstr(x_SH <= 100)\n",
    "m.addConstr(y_B[1]-y_O[1]+x_SH == 85)\n",
    "m.addConstr(y_B[2]-y_O[2]+x_SH == 105)\n",
    "m.addConstr(y_B[3]-y_O[3]+x_SH == 120)\n",
    "\n",
    "m.optimize()\n",
    "        \n",
    "print('x_SH:',x_SH.x)\n",
    "\n",
    "print('y_B:')\n",
    "for i in range(1,4):\n",
    "    print(y_B[i].x)\n",
    "    \n",
    "print('y_O:')\n",
    "for i in range(1,4):\n",
    "    print(y_O[i].x)"
   ]
  }
 ],
 "metadata": {
  "kernelspec": {
   "display_name": "Python 3",
   "language": "python",
   "name": "python3"
  },
  "language_info": {
   "codemirror_mode": {
    "name": "ipython",
    "version": 3
   },
   "file_extension": ".py",
   "mimetype": "text/x-python",
   "name": "python",
   "nbconvert_exporter": "python",
   "pygments_lexer": "ipython3",
   "version": "3.8.5"
  }
 },
 "nbformat": 4,
 "nbformat_minor": 4
}
